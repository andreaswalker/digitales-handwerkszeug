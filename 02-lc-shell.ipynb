{
 "cells": [
  {
   "cell_type": "markdown",
   "metadata": {},
   "source": [
    "# Library Carpentry: Shell"
   ]
  },
  {
   "cell_type": "markdown",
   "metadata": {},
   "source": [
    "<https://librarycarpentry.org/lc-shell/>"
   ]
  },
  {
   "cell_type": "markdown",
   "metadata": {},
   "source": [
    "## Setup"
   ]
  },
  {
   "cell_type": "markdown",
   "metadata": {},
   "source": [
    "### Archiv `shell-lesson.zip` von Library Carpentry herunterladen"
   ]
  },
  {
   "cell_type": "code",
   "execution_count": 5,
   "metadata": {},
   "outputs": [
    {
     "name": "stdout",
     "output_type": "stream",
     "text": [
      "--2019-09-02 20:49:57--  https://librarycarpentry.org/lc-shell/data/shell-lesson.zip\n",
      "Resolving librarycarpentry.org (librarycarpentry.org)... 185.199.110.153, 185.199.108.153, 185.199.111.153, ...\n",
      "Connecting to librarycarpentry.org (librarycarpentry.org)|185.199.110.153|:443... connected.\n",
      "HTTP request sent, awaiting response... 200 OK\n",
      "Length: 35142014 (34M) [application/zip]\n",
      "Saving to: ‘shell-lesson.zip’\n",
      "\n",
      "shell-lesson.zip    100%[===================>]  33,51M  4,83MB/s    in 7,5s    \n",
      "\n",
      "2019-09-02 20:50:05 (4,46 MB/s) - ‘shell-lesson.zip’ saved [35142014/35142014]\n",
      "\n"
     ]
    }
   ],
   "source": [
    "wget https://librarycarpentry.org/lc-shell/data/shell-lesson.zip"
   ]
  },
  {
   "cell_type": "markdown",
   "metadata": {},
   "source": [
    "### Archiv in den Ordner `shell-lesson` entpacken und Archiv löschen"
   ]
  },
  {
   "cell_type": "code",
   "execution_count": 8,
   "metadata": {},
   "outputs": [
    {
     "name": "stdout",
     "output_type": "stream",
     "text": [
      "Archive:  shell-lesson.zip\n",
      "  inflating: shell-lesson/000003160_01_text.json  \n",
      "  inflating: shell-lesson/2014-01-31_JA-africa.tsv  \n",
      "  inflating: shell-lesson/2014-01-31_JA-america.tsv  \n",
      "  inflating: shell-lesson/2014-01_JA.tsv  \n",
      "  inflating: shell-lesson/2014-02-02_JA-britain.tsv  \n",
      "  inflating: shell-lesson/33504-0.txt  \n",
      "  inflating: shell-lesson/829-0.txt  \n",
      "  inflating: shell-lesson/diary.html  \n",
      "  inflating: shell-lesson/pg514.txt  \n"
     ]
    }
   ],
   "source": [
    "unzip shell-lesson.zip -d shell-lesson && rm shell-lesson.zip"
   ]
  },
  {
   "cell_type": "markdown",
   "metadata": {},
   "source": [
    "## Los geht's..."
   ]
  },
  {
   "cell_type": "code",
   "execution_count": null,
   "metadata": {},
   "outputs": [],
   "source": []
  }
 ],
 "metadata": {
  "kernelspec": {
   "display_name": "Bash",
   "language": "bash",
   "name": "bash"
  },
  "language_info": {
   "codemirror_mode": "shell",
   "file_extension": ".sh",
   "mimetype": "text/x-sh",
   "name": "bash"
  }
 },
 "nbformat": 4,
 "nbformat_minor": 2
}
